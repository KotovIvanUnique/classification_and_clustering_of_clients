{
 "cells": [
  {
   "cell_type": "code",
   "execution_count": null,
   "metadata": {
    "collapsed": true
   },
   "outputs": [],
   "source": [
    "import base64\n",
    "import os\n",
    "from cryptography.fernet import Fernet\n",
    "from cryptography.hazmat.backends import default_backend\n",
    "from cryptography.hazmat.primitives import hashes\n",
    "from cryptography.hazmat.primitives.kdf.pbkdf2 import PBKDF2HMAC\n",
    "\n",
    "password_prov = ''\n",
    "password = password_prov.encode()\n",
    "salt = b'salt_'\n",
    "kdf = PBKDF2HMAC(algorithm=hashes.SHA256(),length=32,salt=salt,iterations=100000,backend=default_backend())\n",
    "key = base64.urlsafe_b64encode(kdf.derive(password))\n",
    "\n",
    "f = Fernet(key)\n",
    "ex_text_encr = f.encrypt(ex_text.encode())\n",
    "f.decrypt(ex_text_encr).decode()\n",
    "\n",
    "data = pd.read_csv(learning_file, encoding='utf-8', delimiter=';')\n",
    "data = data.dropna(subset=['TEXT'])\n",
    "\n",
    "data['TEXT_ENCR'] = data.TEXT.map(lambda x: f.encrypt(str(x).encode()))\n",
    "data['TEXT_DECR'] = data.TEXT_ENCR.map(lambda x: f.decrypt(x).decode())"
   ]
  }
 ],
 "metadata": {
  "kernelspec": {
   "display_name": "Python 3",
   "language": "python",
   "name": "python3"
  },
  "language_info": {
   "codemirror_mode": {
    "name": "ipython",
    "version": 3
   },
   "file_extension": ".py",
   "mimetype": "text/x-python",
   "name": "python",
   "nbconvert_exporter": "python",
   "pygments_lexer": "ipython3",
   "version": "3.9.13 (tags/v3.9.13:6de2ca5, May 17 2022, 16:36:42) [MSC v.1929 64 bit (AMD64)]"
  },
  "vscode": {
   "interpreter": {
    "hash": "bedf3b64920aa7e1c49377a911937112f9a54cf7a67efed16c9a0f6b95a532e2"
   }
  }
 },
 "nbformat": 4,
 "nbformat_minor": 2
}
